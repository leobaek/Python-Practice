{
 "cells": [
  {
   "cell_type": "code",
   "execution_count": 1,
   "id": "a03d43d9",
   "metadata": {},
   "outputs": [],
   "source": [
    "# https://www.acmicpc.net/step/7"
   ]
  },
  {
   "cell_type": "code",
   "execution_count": 3,
   "id": "2209e420",
   "metadata": {},
   "outputs": [
    {
     "name": "stdout",
     "output_type": "stream",
     "text": [
      "Sprout\n",
      "3\n",
      "r\n"
     ]
    }
   ],
   "source": [
    "# 문자열 찾기\n",
    "s = input()\n",
    "i = int(input())\n",
    "print(s[i-1])"
   ]
  },
  {
   "cell_type": "code",
   "execution_count": null,
   "id": "de054893",
   "metadata": {},
   "outputs": [],
   "source": []
  },
  {
   "cell_type": "code",
   "execution_count": 4,
   "id": "c11a9e5c",
   "metadata": {},
   "outputs": [
    {
     "name": "stdout",
     "output_type": "stream",
     "text": [
      "pulljima\n",
      "8\n"
     ]
    }
   ],
   "source": [
    "# 단어 길이 재기\n",
    "s = input()\n",
    "print(len(s))"
   ]
  },
  {
   "cell_type": "code",
   "execution_count": null,
   "id": "28f7c741",
   "metadata": {},
   "outputs": [],
   "source": []
  },
  {
   "cell_type": "code",
   "execution_count": 7,
   "id": "31642f0e",
   "metadata": {},
   "outputs": [
    {
     "name": "stdout",
     "output_type": "stream",
     "text": [
      "3\n",
      "asdafd\n",
      "ad\n",
      "asd\n",
      "ad\n",
      "asd\n",
      "ad\n"
     ]
    }
   ],
   "source": [
    "# 문자열 양 끝 출력\n",
    "n = int(input())\n",
    "for i in range(n):\n",
    "    s = input()\n",
    "    print(s[0]+s[-1])\n",
    "    "
   ]
  },
  {
   "cell_type": "code",
   "execution_count": 9,
   "id": "66fce779",
   "metadata": {},
   "outputs": [
    {
     "name": "stdout",
     "output_type": "stream",
     "text": [
      "5\n",
      "53\n"
     ]
    }
   ],
   "source": [
    "# 아스키 코드\n",
    "c = input()\n",
    "print(ord(c)) \n"
   ]
  },
  {
   "cell_type": "code",
   "execution_count": null,
   "id": "8167e34d",
   "metadata": {},
   "outputs": [],
   "source": []
  },
  {
   "cell_type": "code",
   "execution_count": 16,
   "id": "f95a7451",
   "metadata": {},
   "outputs": [
    {
     "name": "stdout",
     "output_type": "stream",
     "text": [
      "5\n",
      "54321\n",
      "15\n"
     ]
    }
   ],
   "source": [
    "# 숫자의 합\n",
    "s = int(input())\n",
    "n = input()\n",
    "total = 0\n",
    "for i in range(s):\n",
    "    num = int(n[i])\n",
    "    total += num\n",
    "\n",
    "print(total)\n"
   ]
  },
  {
   "cell_type": "code",
   "execution_count": null,
   "id": "1447d816",
   "metadata": {},
   "outputs": [],
   "source": []
  },
  {
   "cell_type": "code",
   "execution_count": 17,
   "id": "4bd10d0b",
   "metadata": {},
   "outputs": [
    {
     "name": "stdout",
     "output_type": "stream",
     "text": [
      "baekjoon\n",
      "1 0 -1 -1 2 -1 -1 -1 -1 4 3 -1 -1 7 5 -1 -1 -1 -1 -1 -1 -1 -1 -1 -1 -1 "
     ]
    }
   ],
   "source": [
    "# 알파벳 찾기\n",
    "s = input()  # 단어 S를 입력 받음\n",
    "alphabet_positions = [-1] * 26  # 알파벳이 처음 등장하는 위치를 저장할 리스트 초기화\n",
    "\n",
    "for i in range(len(s)):\n",
    "    # 문자열 s의 각 문자를 탐색하며 알파벳이 처음 등장하는 위치를 alphabet_positions 리스트에 저장\n",
    "    alphabet_index = ord(s[i]) - ord('a')\n",
    "    if alphabet_positions[alphabet_index] == -1:  # 해당 알파벳이 처음 등장한 경우에만 위치 저장\n",
    "        alphabet_positions[alphabet_index] = i\n",
    "\n",
    "# 결과 출력\n",
    "for position in alphabet_positions:\n",
    "    print(position, end=' ')\n"
   ]
  },
  {
   "cell_type": "code",
   "execution_count": null,
   "id": "03d8d3ea",
   "metadata": {},
   "outputs": [],
   "source": []
  }
 ],
 "metadata": {
  "kernelspec": {
   "display_name": "Python 3 (ipykernel)",
   "language": "python",
   "name": "python3"
  },
  "language_info": {
   "codemirror_mode": {
    "name": "ipython",
    "version": 3
   },
   "file_extension": ".py",
   "mimetype": "text/x-python",
   "name": "python",
   "nbconvert_exporter": "python",
   "pygments_lexer": "ipython3",
   "version": "3.9.16"
  }
 },
 "nbformat": 4,
 "nbformat_minor": 5
}
