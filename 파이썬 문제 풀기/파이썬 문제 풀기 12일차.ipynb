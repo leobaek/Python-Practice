{
 "cells": [
  {
   "cell_type": "code",
   "execution_count": 3,
   "id": "4d186005",
   "metadata": {},
   "outputs": [
    {
     "name": "stdout",
     "output_type": "stream",
     "text": [
      "f\n"
     ]
    }
   ],
   "source": [
    "# 세로 읽기\n",
    "words = [] \n",
    "max_length = 0  \n",
    "\n",
    "\n",
    "for i in range(5):\n",
    "    word = input().strip()\n",
    "    words.append(word)\n",
    "    max_length = max(max_length, len(word))\n",
    "\n",
    "\n",
    "for i in range(5):\n",
    "    words[i] += '0' * (max_length - len(words[i]))\n",
    "\n",
    "result = '' \n",
    "\n",
    "for i in range(max_length):\n",
    "    for j in range(5):\n",
    "        if words[j][i] != '0':\n",
    "            result += words[j][i]\n",
    "\n",
    "print(result)\n",
    "\n",
    "\n",
    "\n"
   ]
  },
  {
   "cell_type": "code",
   "execution_count": null,
   "id": "8a4b94fa",
   "metadata": {},
   "outputs": [],
   "source": []
  },
  {
   "cell_type": "code",
   "execution_count": null,
   "id": "caf168d7",
   "metadata": {},
   "outputs": [],
   "source": [
    "# 색종이 넓이\n",
    "\n",
    "n = int(input())\n",
    "paper = [[0]*100 for _ in range(100)]\n",
    "\n",
    "for i in range(n):\n",
    "    x, y = map(int, input().split())\n",
    "    for j in range(x, x+10):\n",
    "        for k in range(y, y+10):\n",
    "            paper[j][k] = 1\n",
    "\n",
    "area = 0\n",
    "for i in range(100):\n",
    "    for j in range(100):\n",
    "        if paper[i][j] == 1:\n",
    "            area += 1\n",
    "\n",
    "print(area)\n"
   ]
  },
  {
   "cell_type": "code",
   "execution_count": null,
   "id": "f86a4e31",
   "metadata": {},
   "outputs": [],
   "source": []
  }
 ],
 "metadata": {
  "kernelspec": {
   "display_name": "Python 3 (ipykernel)",
   "language": "python",
   "name": "python3"
  },
  "language_info": {
   "codemirror_mode": {
    "name": "ipython",
    "version": 3
   },
   "file_extension": ".py",
   "mimetype": "text/x-python",
   "name": "python",
   "nbconvert_exporter": "python",
   "pygments_lexer": "ipython3",
   "version": "3.9.16"
  }
 },
 "nbformat": 4,
 "nbformat_minor": 5
}
