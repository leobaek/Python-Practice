{
 "cells": [
  {
   "cell_type": "code",
   "execution_count": null,
   "id": "1151a881",
   "metadata": {},
   "outputs": [],
   "source": [
    "https://www.acmicpc.net/step/1"
   ]
  },
  {
   "cell_type": "code",
   "execution_count": 3,
   "id": "24a18007",
   "metadata": {},
   "outputs": [
    {
     "name": "stdout",
     "output_type": "stream",
     "text": [
      "4 5\n",
      "0.8\n"
     ]
    }
   ],
   "source": [
    "A, B = map(int,input().split())\n",
    "print(A/B)"
   ]
  },
  {
   "cell_type": "code",
   "execution_count": 6,
   "id": "f50b334d",
   "metadata": {},
   "outputs": [
    {
     "name": "stdout",
     "output_type": "stream",
     "text": [
      "Hello World!\n"
     ]
    }
   ],
   "source": [
    "print(\"Hello World!\")"
   ]
  },
  {
   "cell_type": "code",
   "execution_count": 9,
   "id": "504a9f42",
   "metadata": {},
   "outputs": [
    {
     "name": "stdout",
     "output_type": "stream",
     "text": [
      "1 2\n",
      "3\n"
     ]
    }
   ],
   "source": [
    "A, B = map(int,input().split())\n",
    "print(A+B)"
   ]
  },
  {
   "cell_type": "code",
   "execution_count": 13,
   "id": "4bb2f944",
   "metadata": {},
   "outputs": [
    {
     "name": "stdout",
     "output_type": "stream",
     "text": [
      "7 3\n",
      "10\n",
      "4\n",
      "21\n",
      "2\n",
      "1\n"
     ]
    }
   ],
   "source": [
    "## 두 수를 입력받고 사칙연산\n",
    "\n",
    "A, B = map(int, input().split())\n",
    "print(A+B)\n",
    "print(A-B)\n",
    "print(A*B)\n",
    "print(int(A/B))\n",
    "print(A%B)"
   ]
  },
  {
   "cell_type": "code",
   "execution_count": 16,
   "id": "012640e3",
   "metadata": {},
   "outputs": [
    {
     "name": "stdout",
     "output_type": "stream",
     "text": [
      "joonas??!\n"
     ]
    }
   ],
   "source": [
    "# 생성할 id가 기존에 생성된 id 가 겹치면 뒤에 ??! 붙이기 \n",
    "\n",
    "id = input()  # 입력 받기\n",
    "print(id + \"??!\")  # 아이디 출력 후 \"??!\"를 붙여 출력\n"
   ]
  },
  {
   "cell_type": "code",
   "execution_count": 18,
   "id": "d5ee14e1",
   "metadata": {},
   "outputs": [
    {
     "name": "stdout",
     "output_type": "stream",
     "text": [
      "3 2\n",
      "1\n"
     ]
    }
   ],
   "source": []
  },
  {
   "cell_type": "code",
   "execution_count": 21,
   "id": "8c82973a",
   "metadata": {},
   "outputs": [
    {
     "name": "stdout",
     "output_type": "stream",
     "text": [
      "2541\n",
      "1998\n"
     ]
    }
   ],
   "source": [
    "#  불기 연도를 서기 연도로 변환하기\n",
    "\n",
    "A = int(input())\n",
    "print(A-543)"
   ]
  },
  {
   "cell_type": "code",
   "execution_count": 22,
   "id": "67075b0c",
   "metadata": {},
   "outputs": [
    {
     "name": "stdout",
     "output_type": "stream",
     "text": [
      "5 8 4\n",
      "1\n",
      "1\n",
      "0\n",
      "0\n"
     ]
    }
   ],
   "source": [
    "# 3개의 입력값을 받고 사칙연산\n",
    "\n",
    "A, B , C = map(int,input().split())\n",
    "print((A+B)%C)\n",
    "print(((A%C)+(B%C))%C)\n",
    "print((A*B)%C)\n",
    "print(((A%C)*(B%C))%C)"
   ]
  },
  {
   "cell_type": "code",
   "execution_count": 28,
   "id": "fa346c3d",
   "metadata": {},
   "outputs": [
    {
     "name": "stdout",
     "output_type": "stream",
     "text": [
      "472\n",
      "385\n",
      "2360\n",
      "3776\n",
      "1416\n",
      "181720\n"
     ]
    }
   ],
   "source": [
    "#(세 자리 수) × (세 자리 수)는 다음과 같은 과정을 통하여 이루어진다.\n",
    "\n",
    "(1)과 (2)위치에 들어갈 세 자리 자연수가 주어질 때 (3), (4), (5), (6)위치에 들어갈 값을 구하는 프로그램을 작성하시오.\n",
    "\n",
    "A = int(input())\n",
    "B = int(input())\n",
    "print(A*(B%10))\n",
    "print(A*((B%100)//10))\n",
    "print(A*(B//100))\n",
    "print(A*B)\n"
   ]
  },
  {
   "cell_type": "code",
   "execution_count": 29,
   "id": "f36ccf54",
   "metadata": {},
   "outputs": [
    {
     "name": "stdout",
     "output_type": "stream",
     "text": [
      "77 77 7777\n",
      "7931\n"
     ]
    }
   ],
   "source": [
    "# 3자리 입력받고 연산\n",
    "\n",
    "A,B,C = map(int,input().split())\n",
    "print(A+B+C)"
   ]
  },
  {
   "cell_type": "code",
   "execution_count": 37,
   "id": "b3017f7a",
   "metadata": {},
   "outputs": [
    {
     "name": "stdout",
     "output_type": "stream",
     "text": [
      "\\    /\\\n",
      " )  ( ')\n",
      "(  /  )\n",
      " \\(__)|\n"
     ]
    }
   ],
   "source": [
    "# 고양이 출력\n",
    "print(\"\\\\    /\\\\\")\n",
    "print(\" )  ( ')\")\n",
    "print(\"(  /  )\")\n",
    "print(\" \\\\(__)|\")\n"
   ]
  },
  {
   "cell_type": "code",
   "execution_count": 41,
   "id": "e22a0784",
   "metadata": {},
   "outputs": [
    {
     "name": "stdout",
     "output_type": "stream",
     "text": [
      "|\\_/|\n",
      "|q p|   /}\n",
      "( 0 )\"\"\"\\\n",
      "|\"^\"`    |\n",
      "||_/=\\\\__|\n"
     ]
    }
   ],
   "source": [
    "# 강아지 출력\n",
    "print(\"|\\\\_/|\")\n",
    "print(\"|q p|   /}\")\n",
    "print('( 0 )\"\"\"\\\\')\n",
    "print('|\"^\"`    |')\n",
    "print(\"||_/=\\\\\\\\__|\")\n"
   ]
  },
  {
   "cell_type": "code",
   "execution_count": null,
   "id": "4a2cf068",
   "metadata": {},
   "outputs": [],
   "source": []
  }
 ],
 "metadata": {
  "kernelspec": {
   "display_name": "Python 3 (ipykernel)",
   "language": "python",
   "name": "python3"
  },
  "language_info": {
   "codemirror_mode": {
    "name": "ipython",
    "version": 3
   },
   "file_extension": ".py",
   "mimetype": "text/x-python",
   "name": "python",
   "nbconvert_exporter": "python",
   "pygments_lexer": "ipython3",
   "version": "3.9.15"
  }
 },
 "nbformat": 4,
 "nbformat_minor": 5
}
