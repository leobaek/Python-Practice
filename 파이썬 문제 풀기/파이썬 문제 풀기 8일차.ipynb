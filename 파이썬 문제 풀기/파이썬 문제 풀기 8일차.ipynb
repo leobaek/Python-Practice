{
 "cells": [
  {
   "cell_type": "code",
   "execution_count": 1,
   "id": "8cb6f250",
   "metadata": {},
   "outputs": [],
   "source": [
    "# https://www.acmicpc.net/step/7"
   ]
  },
  {
   "cell_type": "code",
   "execution_count": null,
   "id": "47c88fcc",
   "metadata": {},
   "outputs": [],
   "source": []
  },
  {
   "cell_type": "code",
   "execution_count": 5,
   "id": "6f627eb8",
   "metadata": {},
   "outputs": [
    {
     "name": "stdout",
     "output_type": "stream",
     "text": [
      "2\n",
      "3 as\n",
      "aaasss\n",
      "4 ad\n",
      "aaaadddd\n"
     ]
    }
   ],
   "source": [
    "# 문자열 반복\n",
    "T = int(input())\n",
    "for i in range(T):\n",
    "    R,S = input().split()\n",
    "    for c in S:\n",
    "        print(c*int(R),end='')\n",
    "    print()\n",
    "\n",
    "        "
   ]
  },
  {
   "cell_type": "code",
   "execution_count": null,
   "id": "7a2c870e",
   "metadata": {},
   "outputs": [],
   "source": []
  },
  {
   "cell_type": "code",
   "execution_count": 7,
   "id": "64276dbc",
   "metadata": {},
   "outputs": [
    {
     "name": "stdout",
     "output_type": "stream",
     "text": [
      "The Curious Case of Benjamin Button\n",
      "6\n"
     ]
    }
   ],
   "source": [
    "# 단어의 개수\n",
    "s = input()\n",
    "s2 = s.split()\n",
    "print(len(s2))\n"
   ]
  },
  {
   "cell_type": "code",
   "execution_count": null,
   "id": "3f22b543",
   "metadata": {},
   "outputs": [],
   "source": []
  },
  {
   "cell_type": "code",
   "execution_count": 9,
   "id": "5c1e7c77",
   "metadata": {},
   "outputs": [
    {
     "name": "stdout",
     "output_type": "stream",
     "text": [
      "734 893\n",
      "437\n"
     ]
    }
   ],
   "source": [
    "# 상수 문제\n",
    "A,B = map(str,input().split())\n",
    "A = int(A[::-1])\n",
    "B = int(B[::-1])\n",
    "if A > B :\n",
    "    print(A)\n",
    "else :\n",
    "    print(B)\n",
    "\n"
   ]
  },
  {
   "cell_type": "code",
   "execution_count": null,
   "id": "2730ec3c",
   "metadata": {},
   "outputs": [],
   "source": []
  },
  {
   "cell_type": "code",
   "execution_count": 10,
   "id": "16a060ef",
   "metadata": {},
   "outputs": [
    {
     "name": "stdout",
     "output_type": "stream",
     "text": [
      "WA\n",
      "13\n"
     ]
    }
   ],
   "source": [
    "# 다이얼 문제\n",
    "dial = ['ABC', 'DEF', 'GHI', 'JKL', 'MNO', 'PQRS', 'TUV', 'WXYZ']\n",
    "a = input()\n",
    "ret = 0\n",
    "for j in range(len(a)):\n",
    "    for i in dial:\n",
    "        if a[j] in i:\n",
    "            ret += dial.index(i)+3\n",
    "print(ret)\n",
    "\n",
    "    "
   ]
  },
  {
   "cell_type": "code",
   "execution_count": 12,
   "id": "77484112",
   "metadata": {},
   "outputs": [
    {
     "name": "stdout",
     "output_type": "stream",
     "text": [
      "Hello\n",
      "Hello\n",
      "\n"
     ]
    }
   ],
   "source": [
    "while True:\n",
    "    try:\n",
    "        \n",
    "        A = input()\n",
    "        \n",
    "        if not A:\n",
    "            break\n",
    "        print(A)\n",
    "    except:\n",
    "        break\n"
   ]
  },
  {
   "cell_type": "code",
   "execution_count": null,
   "id": "b1227abd",
   "metadata": {},
   "outputs": [],
   "source": []
  }
 ],
 "metadata": {
  "kernelspec": {
   "display_name": "Python 3 (ipykernel)",
   "language": "python",
   "name": "python3"
  },
  "language_info": {
   "codemirror_mode": {
    "name": "ipython",
    "version": 3
   },
   "file_extension": ".py",
   "mimetype": "text/x-python",
   "name": "python",
   "nbconvert_exporter": "python",
   "pygments_lexer": "ipython3",
   "version": "3.9.16"
  }
 },
 "nbformat": 4,
 "nbformat_minor": 5
}
