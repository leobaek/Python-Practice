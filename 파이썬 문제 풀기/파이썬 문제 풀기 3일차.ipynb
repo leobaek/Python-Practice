{
 "cells": [
  {
   "cell_type": "code",
   "execution_count": null,
   "id": "b18be0e1",
   "metadata": {},
   "outputs": [],
   "source": [
    "https://www.acmicpc.net/step/4"
   ]
  },
  {
   "cell_type": "code",
   "execution_count": 2,
   "id": "894b11ee",
   "metadata": {},
   "outputs": [
    {
     "name": "stdout",
     "output_type": "stream",
     "text": [
      "1 2\n",
      "<\n"
     ]
    }
   ],
   "source": [
    "# 두 수 비교\n",
    "\n",
    "A,B = map(int,input().split())\n",
    "if A > B :\n",
    "    print(\">\")\n",
    "elif A < B :\n",
    "    print(\"<\")\n",
    "else :\n",
    "\n",
    "    print(\"==\")"
   ]
  },
  {
   "cell_type": "code",
   "execution_count": 4,
   "id": "609cc352",
   "metadata": {},
   "outputs": [
    {
     "name": "stdout",
     "output_type": "stream",
     "text": [
      "100\n",
      "A\n"
     ]
    }
   ],
   "source": [
    "# 시험 점수\n",
    "\n",
    "score = int(input()) \n",
    "if 90 <= score >= 100 :\n",
    "    print(\"A\")\n",
    "elif 80 <= score >= 89 :\n",
    "    print(\"B\")\n",
    "elif 70 <= score >= 79 :\n",
    "    print(\"C\")\n",
    "elif 60 <= score >= 69 :\n",
    "    print(\"D\")\n",
    "else:\n",
    "    print(\"F\")\n"
   ]
  },
  {
   "cell_type": "code",
   "execution_count": 9,
   "id": "352b3626",
   "metadata": {},
   "outputs": [
    {
     "name": "stdout",
     "output_type": "stream",
     "text": [
      "2011\n",
      "0\n"
     ]
    }
   ],
   "source": [
    "# 윤년 구하기\n",
    "\n",
    "year = int(input())\n",
    "if ((year%4) == 0) and ((year%100) != 0) and ((year%400) == 0) :\n",
    "    print(1)\n",
    "else :\n",
    "    print(0)"
   ]
  },
  {
   "cell_type": "code",
   "execution_count": 13,
   "id": "3888390a",
   "metadata": {},
   "outputs": [
    {
     "name": "stdout",
     "output_type": "stream",
     "text": [
      "9\n",
      "-13\n",
      "4\n"
     ]
    }
   ],
   "source": [
    "# 4분면 고르기\n",
    "\n",
    "a = int(input())\n",
    "b = int(input())\n",
    "if a > 0 and b > 0 :\n",
    "    print(1)\n",
    "elif a < 0 and b > 0 :\n",
    "    print(2)\n",
    "elif a < 0 and b < 0 :\n",
    "    print(3)\n",
    "else :\n",
    "    print(4)\n",
    "    "
   ]
  },
  {
   "cell_type": "code",
   "execution_count": 15,
   "id": "38504b4e",
   "metadata": {},
   "outputs": [
    {
     "name": "stdout",
     "output_type": "stream",
     "text": [
      "23 40\n",
      "22 55\n"
     ]
    }
   ],
   "source": [
    "# 알람시계 45분 일찍 맞추기\n",
    "\n",
    "h,m = map(int,input().split())\n",
    "if m > 45 :\n",
    "    print(h,m-45)\n",
    "elif m < 45:\n",
    "    print(h-1,m+60-45)"
   ]
  },
  {
   "cell_type": "code",
   "execution_count": 37,
   "id": "8fd2c589",
   "metadata": {},
   "outputs": [
    {
     "name": "stdout",
     "output_type": "stream",
     "text": [
      "23 48\n",
      "25\n",
      "0 13\n"
     ]
    }
   ],
   "source": [
    "# 오븐 시간 문제\n",
    "\n",
    "A, B = map(int, input().split())\n",
    "C = int(input())\n",
    "\n",
    "# 현재 시각에서 요리하는 데 필요한 시간을 더해준다.\n",
    "total_min = A * 60 + B + C\n",
    "\n",
    "# 24로 나눈 나머지를 구한다.\n",
    "hour = (total_min // 60) % 24\n",
    "minute = total_min % 60\n",
    "\n",
    "\n",
    "print(hour, minute)\n"
   ]
  },
  {
   "cell_type": "code",
   "execution_count": 41,
   "id": "6b978c38",
   "metadata": {},
   "outputs": [
    {
     "name": "stdout",
     "output_type": "stream",
     "text": [
      "6 2 5\n",
      "600\n"
     ]
    }
   ],
   "source": [
    "a,b,c = map(int,input().split())\n",
    "if a==b==c :\n",
    "    print(10000 + a*1000)\n",
    "elif a==b or a==c or b==c :\n",
    "    if a==b :\n",
    "        print(1000+a*100)\n",
    "    elif a==c :\n",
    "        print(1000+a*100)\n",
    "    else :\n",
    "        print(1000+b*100)\n",
    "else :\n",
    "    if a>b and a>c :\n",
    "        print(a*100)\n",
    "    elif b>a and b>c :\n",
    "        print(b*100)\n",
    "    else :\n",
    "        print(c*100)"
   ]
  },
  {
   "cell_type": "code",
   "execution_count": null,
   "id": "72f0a6dd",
   "metadata": {},
   "outputs": [],
   "source": []
  },
  {
   "cell_type": "code",
   "execution_count": null,
   "id": "0a90aa35",
   "metadata": {},
   "outputs": [],
   "source": []
  },
  {
   "cell_type": "code",
   "execution_count": null,
   "id": "0a0ce6f2",
   "metadata": {},
   "outputs": [],
   "source": []
  }
 ],
 "metadata": {
  "kernelspec": {
   "display_name": "Python 3 (ipykernel)",
   "language": "python",
   "name": "python3"
  },
  "language_info": {
   "codemirror_mode": {
    "name": "ipython",
    "version": 3
   },
   "file_extension": ".py",
   "mimetype": "text/x-python",
   "name": "python",
   "nbconvert_exporter": "python",
   "pygments_lexer": "ipython3",
   "version": "3.9.15"
  }
 },
 "nbformat": 4,
 "nbformat_minor": 5
}
