{
 "cells": [
  {
   "cell_type": "code",
   "execution_count": null,
   "id": "0195b2e7",
   "metadata": {},
   "outputs": [],
   "source": [
    "# https://www.acmicpc.net/step/3"
   ]
  },
  {
   "cell_type": "code",
   "execution_count": null,
   "id": "3cc0610f",
   "metadata": {},
   "outputs": [],
   "source": []
  },
  {
   "cell_type": "code",
   "execution_count": 1,
   "id": "8b889b8f",
   "metadata": {},
   "outputs": [],
   "source": [
    "# 구구단 출력"
   ]
  },
  {
   "cell_type": "code",
   "execution_count": 3,
   "id": "2af75bd3",
   "metadata": {},
   "outputs": [
    {
     "name": "stdout",
     "output_type": "stream",
     "text": [
      "2\n",
      "2*1=2\n",
      "2*2=4\n",
      "2*3=6\n",
      "2*4=8\n",
      "2*5=10\n",
      "2*6=12\n",
      "2*7=14\n",
      "2*8=16\n",
      "2*9=18\n"
     ]
    }
   ],
   "source": [
    "num = int(input())\n",
    "for i in range(1,10):\n",
    "    print(\"{}*{}={}\".format(num, i,num*i))\n"
   ]
  },
  {
   "cell_type": "code",
   "execution_count": 4,
   "id": "b4fb1b84",
   "metadata": {},
   "outputs": [],
   "source": [
    "# A+B-3"
   ]
  },
  {
   "cell_type": "code",
   "execution_count": 7,
   "id": "ccd13a2a",
   "metadata": {},
   "outputs": [
    {
     "name": "stdout",
     "output_type": "stream",
     "text": [
      "5\n",
      "1 1\n",
      "2\n",
      "2 3\n",
      "5\n",
      "3 4\n",
      "7\n",
      "9 8\n",
      "17\n",
      "5 2\n",
      "7\n",
      "4 6\n",
      "10\n"
     ]
    }
   ],
   "source": [
    "i = int(input())\n",
    "for i in range(0,i) :\n",
    "    A,B = map(int,input().split())\n",
    "    print(A+B)\n",
    "\n"
   ]
  },
  {
   "cell_type": "code",
   "execution_count": null,
   "id": "47f90e2f",
   "metadata": {},
   "outputs": [],
   "source": []
  }
 ],
 "metadata": {
  "kernelspec": {
   "display_name": "Python 3 (ipykernel)",
   "language": "python",
   "name": "python3"
  },
  "language_info": {
   "codemirror_mode": {
    "name": "ipython",
    "version": 3
   },
   "file_extension": ".py",
   "mimetype": "text/x-python",
   "name": "python",
   "nbconvert_exporter": "python",
   "pygments_lexer": "ipython3",
   "version": "3.9.16"
  }
 },
 "nbformat": 4,
 "nbformat_minor": 5
}
