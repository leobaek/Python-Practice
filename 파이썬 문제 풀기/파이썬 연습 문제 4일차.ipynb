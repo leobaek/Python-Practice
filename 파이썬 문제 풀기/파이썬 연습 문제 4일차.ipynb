{
 "cells": [
  {
   "cell_type": "code",
   "execution_count": null,
   "id": "2f22a9cd",
   "metadata": {},
   "outputs": [],
   "source": [
    "# https://www.acmicpc.net/step/3"
   ]
  },
  {
   "cell_type": "code",
   "execution_count": null,
   "id": "540d61ce",
   "metadata": {},
   "outputs": [],
   "source": []
  },
  {
   "cell_type": "code",
   "execution_count": 1,
   "id": "ea099b16",
   "metadata": {},
   "outputs": [],
   "source": [
    "# 구구단 출력"
   ]
  },
  {
   "cell_type": "code",
   "execution_count": 3,
   "id": "eaf9e21e",
   "metadata": {},
   "outputs": [
    {
     "name": "stdout",
     "output_type": "stream",
     "text": [
      "2\n",
      "2*1=2\n",
      "2*2=4\n",
      "2*3=6\n",
      "2*4=8\n",
      "2*5=10\n",
      "2*6=12\n",
      "2*7=14\n",
      "2*8=16\n",
      "2*9=18\n"
     ]
    }
   ],
   "source": [
    "num = int(input())\n",
    "for i in range(1,10):\n",
    "    print(\"{}*{}={}\".format(num, i,num*i))\n"
   ]
  },
  {
   "cell_type": "code",
   "execution_count": null,
   "id": "a27e7a1f",
   "metadata": {},
   "outputs": [],
   "source": []
  }
 ],
 "metadata": {
  "kernelspec": {
   "display_name": "Python 3 (ipykernel)",
   "language": "python",
   "name": "python3"
  },
  "language_info": {
   "codemirror_mode": {
    "name": "ipython",
    "version": 3
   },
   "file_extension": ".py",
   "mimetype": "text/x-python",
   "name": "python",
   "nbconvert_exporter": "python",
   "pygments_lexer": "ipython3",
   "version": "3.9.16"
  }
 },
 "nbformat": 4,
 "nbformat_minor": 5
}
