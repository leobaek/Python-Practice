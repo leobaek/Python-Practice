{
 "cells": [
  {
   "cell_type": "code",
   "execution_count": 1,
   "id": "0b3e406c",
   "metadata": {},
   "outputs": [],
   "source": [
    "# https://www.acmicpc.net/step/2"
   ]
  },
  {
   "cell_type": "code",
   "execution_count": 2,
   "id": "80eb8c56",
   "metadata": {},
   "outputs": [
    {
     "name": "stdout",
     "output_type": "stream",
     "text": [
      "3 3\n",
      "1 1 1\n",
      "2 2 2\n",
      "0 1 0\n",
      "3 3 3\n",
      "4 4 4\n",
      "5 5 100\n",
      "4 4 4 \n",
      "6 6 6 \n",
      "5 6 100 \n"
     ]
    }
   ],
   "source": [
    "n, m = map(int, input().split())\n",
    "\n",
    "a = []\n",
    "for _ in range(n):\n",
    "    a.append(list(map(int, input().split())))\n",
    "\n",
    "b = []\n",
    "for _ in range(n):\n",
    "    b.append(list(map(int, input().split())))\n",
    "\n",
    "c = []\n",
    "for i in range(n):\n",
    "    row = []\n",
    "    for j in range(m):\n",
    "        row.append(a[i][j] + b[i][j])\n",
    "    c.append(row)\n",
    "\n",
    "for i in range(n):\n",
    "    for j in range(m):\n",
    "        print(c[i][j], end=' ')\n",
    "    print()\n"
   ]
  },
  {
   "cell_type": "code",
   "execution_count": null,
   "id": "fc8023bb",
   "metadata": {},
   "outputs": [],
   "source": [
    "max_val = 0  # 최댓값 초기화\n",
    "max_row, max_col = 0, 0  # 최댓값 위치 초기화\n",
    "\n",
    "for i in range(9):\n",
    "    row = list(map(int, input().split()))  # 한 행씩 입력받기\n",
    "    if max(row) > max_val:  # 현재 행에서 최댓값 갱신\n",
    "        max_val = max(row)\n",
    "        max_row, max_col = i + 1, row.index(max_val) + 1\n",
    "\n",
    "print(max_val)  # 최댓값 출력\n",
    "print(max_row, max_col)  # 최댓값 위치 출력\n"
   ]
  },
  {
   "cell_type": "code",
   "execution_count": null,
   "id": "6cdf2db2",
   "metadata": {},
   "outputs": [],
   "source": []
  },
  {
   "cell_type": "code",
   "execution_count": null,
   "id": "d6f3b2c0",
   "metadata": {},
   "outputs": [],
   "source": []
  },
  {
   "cell_type": "code",
   "execution_count": null,
   "id": "f5670572",
   "metadata": {},
   "outputs": [],
   "source": []
  },
  {
   "cell_type": "code",
   "execution_count": null,
   "id": "48300d5e",
   "metadata": {},
   "outputs": [],
   "source": []
  },
  {
   "cell_type": "code",
   "execution_count": null,
   "id": "ab3153ec",
   "metadata": {},
   "outputs": [],
   "source": []
  },
  {
   "cell_type": "code",
   "execution_count": null,
   "id": "af63a99e",
   "metadata": {},
   "outputs": [],
   "source": []
  }
 ],
 "metadata": {
  "kernelspec": {
   "display_name": "Python 3 (ipykernel)",
   "language": "python",
   "name": "python3"
  },
  "language_info": {
   "codemirror_mode": {
    "name": "ipython",
    "version": 3
   },
   "file_extension": ".py",
   "mimetype": "text/x-python",
   "name": "python",
   "nbconvert_exporter": "python",
   "pygments_lexer": "ipython3",
   "version": "3.9.16"
  }
 },
 "nbformat": 4,
 "nbformat_minor": 5
}
