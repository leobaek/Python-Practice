{
 "cells": [
  {
   "cell_type": "code",
   "execution_count": null,
   "id": "78734020",
   "metadata": {},
   "outputs": [],
   "source": [
    "# 문제 1\n",
    "# 두 정수 A와 B를 입력받은 다음, A+B를 출력하는 프로그램 작성\n",
    "# 입력 첫째 줄에 A와 B가 주어진다\n",
    "# 예제 입력 : 1 2\n",
    "# 예제 출력 : 3"
   ]
  },
  {
   "cell_type": "code",
   "execution_count": null,
   "id": "01cac0d3",
   "metadata": {},
   "outputs": [],
   "source": []
  },
  {
   "cell_type": "code",
   "execution_count": null,
   "id": "8d3c773a",
   "metadata": {},
   "outputs": [],
   "source": [
    "# 내 풀이"
   ]
  },
  {
   "cell_type": "code",
   "execution_count": 7,
   "id": "4c018600",
   "metadata": {},
   "outputs": [
    {
     "name": "stdout",
     "output_type": "stream",
     "text": [
      "1\n",
      "5\n",
      "6\n"
     ]
    }
   ],
   "source": [
    "a = int(input())\n",
    "b = int(input())\n",
    "print(a+b)\n",
    "# 이 코드는 정수 두개를 한번에 입력받지 못하므로 map함수를 이용해 묶어서 처리해야함"
   ]
  },
  {
   "cell_type": "code",
   "execution_count": 1,
   "id": "aaeef921",
   "metadata": {},
   "outputs": [
    {
     "name": "stdout",
     "output_type": "stream",
     "text": [
      "4 7\n",
      "11\n"
     ]
    }
   ],
   "source": [
    "# 정답\n",
    "a, b = map(int, input().split())\n",
    "print(a+b)"
   ]
  },
  {
   "cell_type": "code",
   "execution_count": 7,
   "id": "cbabf7fa",
   "metadata": {},
   "outputs": [],
   "source": [
    "# map() 함수는 파이썬 내장 함수 중 하나로, 주어진 함수를 \n",
    "#반복 가능한 객체의 모든 요소에 적용하고 \n",
    "# 그 결과를 묶어서 반환합니다."
   ]
  },
  {
   "cell_type": "code",
   "execution_count": null,
   "id": "a4750a72",
   "metadata": {},
   "outputs": [],
   "source": []
  },
  {
   "cell_type": "code",
   "execution_count": 8,
   "id": "fdf915a0",
   "metadata": {},
   "outputs": [],
   "source": [
    "# 문제2\n",
    "# 두 정수 A와 B를 입력받은 다음, A-B를 출력하는 프로그램 작성\n",
    "# 입력 첫째 줄에 A와 B가 주어진다\n",
    "# 예제 입력 : 1 2\n",
    "# 예제 출력 : 3"
   ]
  },
  {
   "cell_type": "code",
   "execution_count": 11,
   "id": "34899fe2",
   "metadata": {},
   "outputs": [
    {
     "name": "stdout",
     "output_type": "stream",
     "text": [
      "5 3\n",
      "2\n"
     ]
    }
   ],
   "source": [
    "# 내 풀이\n",
    "a, b = map(int, input().split())\n",
    "print(a-b)"
   ]
  },
  {
   "cell_type": "code",
   "execution_count": null,
   "id": "0ee47b84",
   "metadata": {},
   "outputs": [],
   "source": []
  }
 ],
 "metadata": {
  "kernelspec": {
   "display_name": "Python 3 (ipykernel)",
   "language": "python",
   "name": "python3"
  },
  "language_info": {
   "codemirror_mode": {
    "name": "ipython",
    "version": 3
   },
   "file_extension": ".py",
   "mimetype": "text/x-python",
   "name": "python",
   "nbconvert_exporter": "python",
   "pygments_lexer": "ipython3",
   "version": "3.9.15"
  }
 },
 "nbformat": 4,
 "nbformat_minor": 5
}
