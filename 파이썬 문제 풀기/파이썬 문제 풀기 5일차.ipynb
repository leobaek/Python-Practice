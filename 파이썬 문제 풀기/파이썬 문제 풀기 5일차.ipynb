{
 "cells": [
  {
   "cell_type": "code",
   "execution_count": null,
   "id": "019bee00",
   "metadata": {},
   "outputs": [],
   "source": [
    "# 반복문 문제\n",
    "# https://www.acmicpc.net/step/3"
   ]
  },
  {
   "cell_type": "code",
   "execution_count": 19,
   "id": "d2e5fb0b",
   "metadata": {},
   "outputs": [
    {
     "name": "stdout",
     "output_type": "stream",
     "text": [
      "2\n",
      "1 1\n",
      "Case #1: 2\n",
      "2 2\n",
      "Case #2: 4\n"
     ]
    }
   ],
   "source": [
    "# 반복문 문제 1\n",
    "T = int(input())\n",
    "\n",
    "for i in range(1,T+1):\n",
    "    result = \"Case #\"+str(i)+\":\"\n",
    "    A,B = map(int,input().split())\n",
    "    print(result,A+B)\n",
    "    "
   ]
  },
  {
   "cell_type": "code",
   "execution_count": 22,
   "id": "725b8fa2",
   "metadata": {},
   "outputs": [
    {
     "name": "stdout",
     "output_type": "stream",
     "text": [
      "5\n",
      "1 1\n",
      "Case #1: 1+1= 2\n",
      "2 3\n",
      "Case #2: 2+3= 5\n",
      "3 4\n",
      "Case #3: 3+4= 7\n",
      "5 5\n",
      "Case #4: 5+5= 10\n"
     ]
    }
   ],
   "source": [
    "# 반복문 문제 2\n",
    "T = int(input())\n",
    "for i in range(1,T+1):\n",
    "    A,B = map(int,input().split())\n",
    "    result = \"Case #\"+str(i)+\": \"+ str(A) + \"+\" + str(B) +\"= \" + str(A+B)\n",
    "    print(result)\n",
    "    \n",
    "\n"
   ]
  },
  {
   "cell_type": "code",
   "execution_count": 30,
   "id": "c61b39ad",
   "metadata": {},
   "outputs": [
    {
     "name": "stdout",
     "output_type": "stream",
     "text": [
      "5\n",
      "*\n",
      "**\n",
      "***\n",
      "****\n",
      "*****\n"
     ]
    }
   ],
   "source": [
    "# 반복문 문제 3\n",
    "x = \"\"\n",
    "T = int(input())\n",
    "for i in range(1,T+1):\n",
    "    x += \"*\"\n",
    "    print(x)"
   ]
  },
  {
   "cell_type": "code",
   "execution_count": 32,
   "id": "638318fc",
   "metadata": {},
   "outputs": [
    {
     "name": "stdout",
     "output_type": "stream",
     "text": [
      "5\n",
      "    *\n",
      "   **\n",
      "  ***\n",
      " ****\n",
      "*****\n"
     ]
    }
   ],
   "source": [
    "# 반복문 문제4\n",
    "x=\"\"\n",
    "T = int(input())\n",
    "for i in range(1,T+1):\n",
    "    x += \"*\"\n",
    "    print(x.rjust(T))"
   ]
  },
  {
   "cell_type": "code",
   "execution_count": 40,
   "id": "7b040812",
   "metadata": {},
   "outputs": [
    {
     "name": "stdout",
     "output_type": "stream",
     "text": [
      "1 1\n",
      "2\n",
      "2 3\n",
      "5\n",
      "4 5\n",
      "9\n",
      "0 0\n"
     ]
    }
   ],
   "source": [
    "# 반복문 문제5\n",
    "while True :\n",
    "    A,B = map(int,input().split())\n",
    "    if A==0 and B==0 :\n",
    "        break\n",
    "    print(A+B)"
   ]
  },
  {
   "cell_type": "code",
   "execution_count": 43,
   "id": "37e388a4",
   "metadata": {},
   "outputs": [
    {
     "name": "stdout",
     "output_type": "stream",
     "text": [
      "1 3\n",
      "4\n",
      "87489\n"
     ]
    }
   ],
   "source": [
    "# 반복문 문제6\n",
    "while True:\n",
    "    try:\n",
    "        A, B = map(int, input().split())\n",
    "        print(A+B)\n",
    "    except:\n",
    "        break"
   ]
  },
  {
   "cell_type": "code",
   "execution_count": null,
   "id": "d161906b",
   "metadata": {},
   "outputs": [],
   "source": []
  }
 ],
 "metadata": {
  "kernelspec": {
   "display_name": "Python 3 (ipykernel)",
   "language": "python",
   "name": "python3"
  },
  "language_info": {
   "codemirror_mode": {
    "name": "ipython",
    "version": 3
   },
   "file_extension": ".py",
   "mimetype": "text/x-python",
   "name": "python",
   "nbconvert_exporter": "python",
   "pygments_lexer": "ipython3",
   "version": "3.9.16"
  }
 },
 "nbformat": 4,
 "nbformat_minor": 5
}
