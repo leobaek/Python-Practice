{
 "cells": [
  {
   "cell_type": "code",
   "execution_count": 1,
   "id": "f327b336",
   "metadata": {},
   "outputs": [],
   "source": [
    "# https://www.acmicpc.net/step/52"
   ]
  },
  {
   "cell_type": "code",
   "execution_count": 3,
   "id": "579f1b01",
   "metadata": {},
   "outputs": [
    {
     "name": "stdout",
     "output_type": "stream",
     "text": [
      "         ,r'\"7\n",
      "r`-_   ,'  ,/\n",
      " \\. \". L_r'\n",
      "   `~\\/ \n",
      "      |\n",
      "      |\n"
     ]
    }
   ],
   "source": [
    "# 새싹 출력 \\n 줄바꿈\n",
    "\n",
    "print(\"         ,r'\\\"7\\nr`-_   ,'  ,/\\n \\. \\\". L_r'\\n   `~\\\\/ \\n      |\\n      |\")\n",
    "\n",
    "      \n",
    "      "
   ]
  },
  {
   "cell_type": "code",
   "execution_count": 10,
   "id": "2ee6e4d2",
   "metadata": {},
   "outputs": [],
   "source": [
    "del list"
   ]
  },
  {
   "cell_type": "code",
   "execution_count": 11,
   "id": "d525eacf",
   "metadata": {},
   "outputs": [
    {
     "name": "stdout",
     "output_type": "stream",
     "text": [
      "0 1 2 2 2 7\n",
      "1 0 0 0 0 1\n"
     ]
    }
   ],
   "source": [
    "# 체스\n",
    "## 내가 푼 방법\n",
    "# A=1\n",
    "# B=1\n",
    "# C=2\n",
    "# D=2\n",
    "# E=2\n",
    "# F=8\n",
    "# list = [A,B,C,D,E,F]\n",
    "# a,b,c,d,e,f = map(int,input().split())\n",
    "# print(A-a,B-b,C-c,D-d,E-e,F-f)\n",
    "\n",
    "## 가독성 좋은 코드\n",
    "pieces = [1, 1, 2, 2, 2, 8]\n",
    "counts = list(map(int, input().split()))\n",
    "result = [p - c for p, c in zip(pieces, counts)]\n",
    "print(*result)\n",
    "\n"
   ]
  },
  {
   "cell_type": "code",
   "execution_count": 18,
   "id": "59b8f970",
   "metadata": {},
   "outputs": [],
   "source": [
    "del s"
   ]
  },
  {
   "cell_type": "code",
   "execution_count": 20,
   "id": "f1898ea4",
   "metadata": {},
   "outputs": [
    {
     "name": "stdout",
     "output_type": "stream",
     "text": [
      "5\n",
      "    *\n",
      "   ***\n",
      "  *****\n",
      " *******\n",
      "*********\n",
      " *******\n",
      "  *****\n",
      "   ***\n",
      "    *\n"
     ]
    }
   ],
   "source": [
    "# 별 찍기\n",
    "N = int(input())\n",
    "\n",
    "for i in range(1, N):\n",
    "\n",
    "    print(\" \"*(N-i)+\"*\"*(2*i-1))\n",
    "\n",
    "for i in range(N, 0, -1):\n",
    "\n",
    "    print(\" \"*(N-i)+\"*\"*(2*i-1))\n",
    "    \n",
    "    "
   ]
  },
  {
   "cell_type": "code",
   "execution_count": null,
   "id": "8f979532",
   "metadata": {},
   "outputs": [],
   "source": []
  },
  {
   "cell_type": "code",
   "execution_count": null,
   "id": "b1c23d1b",
   "metadata": {},
   "outputs": [],
   "source": []
  },
  {
   "cell_type": "code",
   "execution_count": null,
   "id": "7f74991e",
   "metadata": {},
   "outputs": [],
   "source": []
  }
 ],
 "metadata": {
  "kernelspec": {
   "display_name": "Python 3 (ipykernel)",
   "language": "python",
   "name": "python3"
  },
  "language_info": {
   "codemirror_mode": {
    "name": "ipython",
    "version": 3
   },
   "file_extension": ".py",
   "mimetype": "text/x-python",
   "name": "python",
   "nbconvert_exporter": "python",
   "pygments_lexer": "ipython3",
   "version": "3.9.16"
  }
 },
 "nbformat": 4,
 "nbformat_minor": 5
}
