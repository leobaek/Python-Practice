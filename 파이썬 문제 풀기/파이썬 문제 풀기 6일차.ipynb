{
 "cells": [
  {
   "cell_type": "code",
   "execution_count": 1,
   "id": "e950e5af",
   "metadata": {},
   "outputs": [],
   "source": [
    "# https://www.acmicpc.net/step/6"
   ]
  },
  {
   "cell_type": "code",
   "execution_count": 11,
   "id": "139d37ff",
   "metadata": {},
   "outputs": [
    {
     "name": "stdout",
     "output_type": "stream",
     "text": [
      "11\n",
      "1 3 4 5 6 7 8 9 5 4 3 1 2\n",
      "1\n",
      "2\n"
     ]
    }
   ],
   "source": [
    "# 개수 세기\n",
    "N = int(input())\n",
    "A = list(map(int,input().split()))\n",
    "v = int(input())\n",
    "print(A.count(v))\n",
    "\n",
    "    "
   ]
  },
  {
   "cell_type": "code",
   "execution_count": 11,
   "id": "39ed78c8",
   "metadata": {},
   "outputs": [],
   "source": [
    "import statistics"
   ]
  },
  {
   "cell_type": "code",
   "execution_count": 13,
   "id": "55cf19f2",
   "metadata": {},
   "outputs": [
    {
     "name": "stdout",
     "output_type": "stream",
     "text": [
      "10 5\n",
      "1 10 4 9 2 3 8 5 7 6\n",
      "1 4 2 3 "
     ]
    }
   ],
   "source": [
    "# X 보다 작은 수\n",
    "N, X = map(int,input().split())\n",
    "A = list(map(int, input().split()))\n",
    "\n",
    "for num in A:\n",
    "    if num < X :\n",
    "        print(num,end=\" \")"
   ]
  },
  {
   "cell_type": "code",
   "execution_count": null,
   "id": "0ac6570c",
   "metadata": {},
   "outputs": [],
   "source": []
  },
  {
   "cell_type": "code",
   "execution_count": 15,
   "id": "44e23b08",
   "metadata": {},
   "outputs": [
    {
     "name": "stdout",
     "output_type": "stream",
     "text": [
      "5\n",
      "20 10 35 30 7\n",
      "35 7\n"
     ]
    }
   ],
   "source": [
    "# 최댓값, 최솟값 구하기\n",
    "n = int(input())\n",
    "a = list(map(int,input().split()))\n",
    "M = max(a)\n",
    "m = min(a)\n",
    "print(m,M)\n",
    "\n"
   ]
  },
  {
   "cell_type": "code",
   "execution_count": null,
   "id": "0eef27fc",
   "metadata": {},
   "outputs": [],
   "source": []
  },
  {
   "cell_type": "code",
   "execution_count": 22,
   "id": "3008eca8",
   "metadata": {},
   "outputs": [
    {
     "name": "stdout",
     "output_type": "stream",
     "text": [
      "3\n",
      "29\n",
      "38\n",
      "12\n",
      "57\n",
      "74\n",
      "40\n",
      "85\n",
      "61\n",
      "85\n",
      "7\n"
     ]
    }
   ],
   "source": [
    "# 최댓값 구하기\n",
    "list = []\n",
    "for i in range(9):\n",
    "    x = int(input())\n",
    "    list.append(x)\n",
    "M = max(list)\n",
    "I = list.index(M)\n",
    "\n",
    "\n",
    "print(M)\n",
    "print(I+1)\n",
    "\n",
    "    \n",
    "    "
   ]
  },
  {
   "cell_type": "code",
   "execution_count": null,
   "id": "03676428",
   "metadata": {},
   "outputs": [],
   "source": []
  },
  {
   "cell_type": "code",
   "execution_count": 35,
   "id": "6327093e",
   "metadata": {},
   "outputs": [
    {
     "name": "stdout",
     "output_type": "stream",
     "text": [
      "5 4\n",
      "1 2 3\n",
      "3 4 4\n",
      "1 4 1\n",
      "2 2 2\n",
      "1 2 1 1 0 "
     ]
    }
   ],
   "source": [
    "# 공 넣기\n",
    "N,M =  map(int,input().split())\n",
    "basket = [0] * (N+1)\n",
    "for _ in range(M):\n",
    "    i,j,k = map(int,input().split())\n",
    "    for x in range(i,j+1):\n",
    "        basket[x] = k \n",
    "            \n",
    "for i in range(1, N+1):\n",
    "    print(basket[i], end=' ')\n",
    "        \n",
    "    \n",
    "\n"
   ]
  },
  {
   "cell_type": "code",
   "execution_count": 25,
   "id": "6e66fb8e",
   "metadata": {},
   "outputs": [
    {
     "name": "stdout",
     "output_type": "stream",
     "text": [
      "5 4\n",
      "[0, 0, 0, 0, 0, 0]\n"
     ]
    }
   ],
   "source": [
    "N,M =  map(int,input().split())\n",
    "basket = [0] * (N)\n",
    "print(basket)"
   ]
  },
  {
   "cell_type": "code",
   "execution_count": 39,
   "id": "0ca6111c",
   "metadata": {},
   "outputs": [],
   "source": [
    "del list"
   ]
  },
  {
   "cell_type": "code",
   "execution_count": 41,
   "id": "acfe14cc",
   "metadata": {},
   "outputs": [
    {
     "name": "stdout",
     "output_type": "stream",
     "text": [
      "5 4\n",
      "1 2\n",
      "3 4\n",
      "1 4\n",
      "2 2\n",
      "3 1 4 2 5\n"
     ]
    }
   ],
   "source": [
    "# 공 바꾸기\n",
    "N, M = map(int,input().split())\n",
    "balls = list(range(1, N+1))\n",
    "for i in range(M):\n",
    "    i,j = map(int,input().split())\n",
    "    balls[i-1],balls[j-1] = balls[j-1],balls[i-1]\n",
    "    \n",
    "print(*balls)\n",
    "\n"
   ]
  },
  {
   "cell_type": "code",
   "execution_count": null,
   "id": "3176ab6e",
   "metadata": {},
   "outputs": [],
   "source": []
  },
  {
   "cell_type": "code",
   "execution_count": 42,
   "id": "92278b7e",
   "metadata": {},
   "outputs": [
    {
     "name": "stdout",
     "output_type": "stream",
     "text": [
      "3\n",
      "1\n",
      "4\n",
      "5\n",
      "7\n",
      "9\n",
      "6\n",
      "10\n",
      "11\n",
      "12\n",
      "13\n",
      "14\n",
      "15\n",
      "16\n",
      "17\n",
      "18\n",
      "19\n",
      "20\n",
      "21\n",
      "22\n",
      "23\n",
      "24\n",
      "25\n",
      "26\n",
      "27\n",
      "28\n",
      "29\n",
      "30\n",
      "2\n",
      "8\n"
     ]
    }
   ],
   "source": [
    "# 과제 미제출자 찾기\n",
    "sub = []\n",
    "for i in range(28) :\n",
    "    sub.append(int(input()))\n",
    "no_sub = list(set(range(1,31))- set(sub))\n",
    "no_sub.sort()\n",
    "print(no_sub[0])\n",
    "print(no_sub[1])\n"
   ]
  },
  {
   "cell_type": "code",
   "execution_count": 44,
   "id": "94858646",
   "metadata": {},
   "outputs": [
    {
     "name": "stdout",
     "output_type": "stream",
     "text": [
      "42\n",
      "84\n",
      "252\n",
      "420\n",
      "840\n",
      "126\n",
      "42\n",
      "84\n",
      "420\n",
      "126\n",
      "1\n"
     ]
    }
   ],
   "source": [
    "number = []\n",
    "remainders = []\n",
    "for i in range(10) :\n",
    "    number.append(int(input()))\n",
    "for n in number:\n",
    "    remainder = n % 42\n",
    "    if remainder not in remainders:\n",
    "        remainders.append(remainder)\n",
    "result = len(remainders)\n",
    "print(result)\n",
    "\n",
    "    \n",
    "    "
   ]
  },
  {
   "cell_type": "code",
   "execution_count": 52,
   "id": "810fe5d1",
   "metadata": {},
   "outputs": [
    {
     "name": "stdout",
     "output_type": "stream",
     "text": [
      "5 4\n",
      "1 2\n",
      "3 4\n",
      "1 4\n",
      "2 2\n",
      "3 4 1 2 5\n"
     ]
    }
   ],
   "source": [
    "N, M  = map(int, input().split())\n",
    "\n",
    "baskets = list(range(1,N+1))\n",
    "\n",
    "for i in range(M) :\n",
    "    A,B = map(int, input().split())\n",
    "    baskets[A-1:B] = reversed(baskets[A-1:B])\n",
    "    \n",
    "print(*baskets)"
   ]
  },
  {
   "cell_type": "code",
   "execution_count": null,
   "id": "ef3afdeb",
   "metadata": {},
   "outputs": [],
   "source": []
  },
  {
   "cell_type": "code",
   "execution_count": 4,
   "id": "5f97b902",
   "metadata": {},
   "outputs": [
    {
     "name": "stdout",
     "output_type": "stream",
     "text": [
      "3\n",
      "40 80 60\n",
      "75.0\n"
     ]
    }
   ],
   "source": [
    "# 시험 평균\n",
    "N = int(input())\n",
    "score = []\n",
    "A,B,C = map(int,input().split())\n",
    "score.append(A)\n",
    "score.append(B)\n",
    "score.append(C)\n",
    "M = max(score)\n",
    "a = A/M*100\n",
    "b = B/M*100\n",
    "c = C/M*100\n",
    "print((a+b+c)/3)\n",
    "\n",
    "    \n",
    "    "
   ]
  },
  {
   "cell_type": "code",
   "execution_count": 14,
   "id": "aa759d63",
   "metadata": {},
   "outputs": [
    {
     "name": "stdout",
     "output_type": "stream",
     "text": [
      "4\n",
      "1 100 100 100\n",
      "75.25\n"
     ]
    }
   ],
   "source": [
    "N = int(input())\n",
    "score = list(map(int,input().split()))\n",
    "\n",
    "M = max(score)\n",
    "new_score = []\n",
    "for s in score:\n",
    "    new_score.append(s/M*100)\n",
    "\n",
    "print(sum(new_score)/len(new_score))\n",
    "\n",
    "\n",
    "    \n",
    "\n",
    "    "
   ]
  },
  {
   "cell_type": "code",
   "execution_count": null,
   "id": "929cc747",
   "metadata": {},
   "outputs": [],
   "source": []
  }
 ],
 "metadata": {
  "kernelspec": {
   "display_name": "Python 3 (ipykernel)",
   "language": "python",
   "name": "python3"
  },
  "language_info": {
   "codemirror_mode": {
    "name": "ipython",
    "version": 3
   },
   "file_extension": ".py",
   "mimetype": "text/x-python",
   "name": "python",
   "nbconvert_exporter": "python",
   "pygments_lexer": "ipython3",
   "version": "3.9.16"
  }
 },
 "nbformat": 4,
 "nbformat_minor": 5
}
