{
 "cells": [
  {
   "cell_type": "code",
   "execution_count": 1,
   "id": "34135ff3",
   "metadata": {},
   "outputs": [],
   "source": [
    "## https://www.acmicpc.net/step/52"
   ]
  },
  {
   "cell_type": "code",
   "execution_count": null,
   "id": "fe4f03ce",
   "metadata": {},
   "outputs": [],
   "source": []
  },
  {
   "cell_type": "code",
   "execution_count": 3,
   "id": "addb5b11",
   "metadata": {},
   "outputs": [
    {
     "name": "stdout",
     "output_type": "stream",
     "text": [
      "10 5\n",
      "1 6 4\n",
      "4 5 6 1 2 3 7 8 9 10\n",
      "3 9 8\n",
      "4 5 8 9 6 1 2 3 7 10\n",
      "2 10 5\n",
      "4 6 1 2 3 7 10 5 8 9\n",
      "1 3 3\n",
      "1 4 6 2 3 7 10 5 8 9\n",
      "2 6 2\n",
      "1 4 6 2 3 7 10 5 8 9\n"
     ]
    }
   ],
   "source": [
    "# 바구니 바꾸기\n",
    "N, M = map(int, input().split())\n",
    "a = []\n",
    "for i in range(1,N+1):\n",
    "    a.append(i)\n",
    "    \n",
    "for i in range(M):\n",
    "    i,j,k = map(int,input().split())\n",
    "    a = a[:i-1] + a[k-1:j] + a[i-1:k-1] + a[j:]\n",
    "    \n",
    "print(*a)\n",
    "    "
   ]
  },
  {
   "cell_type": "code",
   "execution_count": null,
   "id": "13338997",
   "metadata": {},
   "outputs": [],
   "source": []
  },
  {
   "cell_type": "code",
   "execution_count": 5,
   "id": "4074913f",
   "metadata": {},
   "outputs": [
    {
     "name": "stdout",
     "output_type": "stream",
     "text": [
      "baekjoon\n",
      "0\n"
     ]
    }
   ],
   "source": [
    "# 팰린드롬인지 확인하기\n",
    "\n",
    "s = input()\n",
    "\n",
    "if s[0:] == s[::-1]:\n",
    "    print(1)\n",
    "else :\n",
    "    print(0)"
   ]
  },
  {
   "cell_type": "code",
   "execution_count": null,
   "id": "781de6ca",
   "metadata": {},
   "outputs": [],
   "source": []
  },
  {
   "cell_type": "code",
   "execution_count": 10,
   "id": "f0161878",
   "metadata": {},
   "outputs": [
    {
     "name": "stdout",
     "output_type": "stream",
     "text": [
      "Mississipi\n",
      "<built-in method count of str object at 0x000001EE86FBC970>\n",
      "<built-in method count of str object at 0x000001EE86FBC970>\n",
      "<built-in method count of str object at 0x000001EE86FBC970>\n",
      "<built-in method count of str object at 0x000001EE86FBC970>\n",
      "?\n"
     ]
    }
   ],
   "source": [
    "# 단어 스펠링 개수 세기\n",
    "w = input().upper()\n",
    "wl = list(set(w))\n",
    "\n",
    "cnt= []\n",
    "for i in wl :\n",
    "    count = w.count\n",
    "    \n",
    "    cnt.append(count(i))\n",
    "        \n",
    "if cnt.count(max(cnt)) > 1:\n",
    "    print(\"?\")\n",
    "\n",
    "else :\n",
    "    print(wl[(cnt.index(max(cnt)))])\n",
    "    \n",
    "\n",
    "\n",
    "    "
   ]
  },
  {
   "cell_type": "code",
   "execution_count": null,
   "id": "f217c492",
   "metadata": {},
   "outputs": [],
   "source": []
  },
  {
   "cell_type": "code",
   "execution_count": 16,
   "id": "31f5feaf",
   "metadata": {},
   "outputs": [
    {
     "name": "stdout",
     "output_type": "stream",
     "text": [
      "5\n",
      "5 50 50 70 80 100\n",
      "40.000%\n"
     ]
    },
    {
     "ename": "KeyboardInterrupt",
     "evalue": "Interrupted by user",
     "output_type": "error",
     "traceback": [
      "\u001b[1;31m---------------------------------------------------------------------------\u001b[0m",
      "\u001b[1;31mKeyboardInterrupt\u001b[0m                         Traceback (most recent call last)",
      "Cell \u001b[1;32mIn[16], line 4\u001b[0m\n\u001b[0;32m      2\u001b[0m c \u001b[38;5;241m=\u001b[39m \u001b[38;5;28mint\u001b[39m(\u001b[38;5;28minput\u001b[39m())\n\u001b[0;32m      3\u001b[0m \u001b[38;5;28;01mfor\u001b[39;00m i \u001b[38;5;129;01min\u001b[39;00m \u001b[38;5;28mrange\u001b[39m(c):\n\u001b[1;32m----> 4\u001b[0m     sl \u001b[38;5;241m=\u001b[39m \u001b[38;5;28mlist\u001b[39m(\u001b[38;5;28mmap\u001b[39m(\u001b[38;5;28mint\u001b[39m,\u001b[38;5;28;43minput\u001b[39;49m\u001b[43m(\u001b[49m\u001b[43m)\u001b[49m\u001b[38;5;241m.\u001b[39msplit()))\n\u001b[0;32m      5\u001b[0m     c\u001b[38;5;241m=\u001b[39m\u001b[38;5;241m0\u001b[39m\n\u001b[0;32m      6\u001b[0m     \u001b[38;5;28;01mfor\u001b[39;00m j \u001b[38;5;129;01min\u001b[39;00m sl[\u001b[38;5;241m1\u001b[39m:]:\n",
      "File \u001b[1;32mD:\\anaconda\\envs\\myenv\\lib\\site-packages\\ipykernel\\kernelbase.py:1191\u001b[0m, in \u001b[0;36mKernel.raw_input\u001b[1;34m(self, prompt)\u001b[0m\n\u001b[0;32m   1189\u001b[0m     msg \u001b[38;5;241m=\u001b[39m \u001b[38;5;124m\"\u001b[39m\u001b[38;5;124mraw_input was called, but this frontend does not support input requests.\u001b[39m\u001b[38;5;124m\"\u001b[39m\n\u001b[0;32m   1190\u001b[0m     \u001b[38;5;28;01mraise\u001b[39;00m StdinNotImplementedError(msg)\n\u001b[1;32m-> 1191\u001b[0m \u001b[38;5;28;01mreturn\u001b[39;00m \u001b[38;5;28;43mself\u001b[39;49m\u001b[38;5;241;43m.\u001b[39;49m\u001b[43m_input_request\u001b[49m\u001b[43m(\u001b[49m\n\u001b[0;32m   1192\u001b[0m \u001b[43m    \u001b[49m\u001b[38;5;28;43mstr\u001b[39;49m\u001b[43m(\u001b[49m\u001b[43mprompt\u001b[49m\u001b[43m)\u001b[49m\u001b[43m,\u001b[49m\n\u001b[0;32m   1193\u001b[0m \u001b[43m    \u001b[49m\u001b[38;5;28;43mself\u001b[39;49m\u001b[38;5;241;43m.\u001b[39;49m\u001b[43m_parent_ident\u001b[49m\u001b[43m[\u001b[49m\u001b[38;5;124;43m\"\u001b[39;49m\u001b[38;5;124;43mshell\u001b[39;49m\u001b[38;5;124;43m\"\u001b[39;49m\u001b[43m]\u001b[49m\u001b[43m,\u001b[49m\n\u001b[0;32m   1194\u001b[0m \u001b[43m    \u001b[49m\u001b[38;5;28;43mself\u001b[39;49m\u001b[38;5;241;43m.\u001b[39;49m\u001b[43mget_parent\u001b[49m\u001b[43m(\u001b[49m\u001b[38;5;124;43m\"\u001b[39;49m\u001b[38;5;124;43mshell\u001b[39;49m\u001b[38;5;124;43m\"\u001b[39;49m\u001b[43m)\u001b[49m\u001b[43m,\u001b[49m\n\u001b[0;32m   1195\u001b[0m \u001b[43m    \u001b[49m\u001b[43mpassword\u001b[49m\u001b[38;5;241;43m=\u001b[39;49m\u001b[38;5;28;43;01mFalse\u001b[39;49;00m\u001b[43m,\u001b[49m\n\u001b[0;32m   1196\u001b[0m \u001b[43m\u001b[49m\u001b[43m)\u001b[49m\n",
      "File \u001b[1;32mD:\\anaconda\\envs\\myenv\\lib\\site-packages\\ipykernel\\kernelbase.py:1234\u001b[0m, in \u001b[0;36mKernel._input_request\u001b[1;34m(self, prompt, ident, parent, password)\u001b[0m\n\u001b[0;32m   1231\u001b[0m \u001b[38;5;28;01mexcept\u001b[39;00m \u001b[38;5;167;01mKeyboardInterrupt\u001b[39;00m:\n\u001b[0;32m   1232\u001b[0m     \u001b[38;5;66;03m# re-raise KeyboardInterrupt, to truncate traceback\u001b[39;00m\n\u001b[0;32m   1233\u001b[0m     msg \u001b[38;5;241m=\u001b[39m \u001b[38;5;124m\"\u001b[39m\u001b[38;5;124mInterrupted by user\u001b[39m\u001b[38;5;124m\"\u001b[39m\n\u001b[1;32m-> 1234\u001b[0m     \u001b[38;5;28;01mraise\u001b[39;00m \u001b[38;5;167;01mKeyboardInterrupt\u001b[39;00m(msg) \u001b[38;5;28;01mfrom\u001b[39;00m \u001b[38;5;28;01mNone\u001b[39;00m\n\u001b[0;32m   1235\u001b[0m \u001b[38;5;28;01mexcept\u001b[39;00m \u001b[38;5;167;01mException\u001b[39;00m:\n\u001b[0;32m   1236\u001b[0m     \u001b[38;5;28mself\u001b[39m\u001b[38;5;241m.\u001b[39mlog\u001b[38;5;241m.\u001b[39mwarning(\u001b[38;5;124m\"\u001b[39m\u001b[38;5;124mInvalid Message:\u001b[39m\u001b[38;5;124m\"\u001b[39m, exc_info\u001b[38;5;241m=\u001b[39m\u001b[38;5;28;01mTrue\u001b[39;00m)\n",
      "\u001b[1;31mKeyboardInterrupt\u001b[0m: Interrupted by user"
     ]
    }
   ],
   "source": [
    "# 평균 구하기\n",
    "c = int(input())\n",
    "for i in range(c):\n",
    "    sl = list(map(int,input().split()))\n",
    "    c=0\n",
    "    for j in sl[1:]:\n",
    "        avg = sum(sl[1:])/sl[0]\n",
    "        if j>avg:\n",
    "            c+=1\n",
    "    score = c/sl[0]*100\n",
    "    print('{0:0.3f}%'.format(score))\n",
    "    \n",
    "    \n"
   ]
  },
  {
   "cell_type": "code",
   "execution_count": null,
   "id": "9cd1ca85",
   "metadata": {},
   "outputs": [],
   "source": []
  },
  {
   "cell_type": "code",
   "execution_count": 20,
   "id": "683039df",
   "metadata": {},
   "outputs": [
    {
     "name": "stdout",
     "output_type": "stream",
     "text": [
      "ljes=njak\n",
      "6\n"
     ]
    }
   ],
   "source": [
    "# 크로아티아 알파벳\n",
    "## 내가 푼 방법\n",
    "# S = input()\n",
    "# S = S.replace(\"c=\", \"A\")\n",
    "# S = S.replace(\"c-\", \"B\")\n",
    "# S = S.replace(\"dz\", \"C\")\n",
    "# S = S.replace(\"d-\", \"D\")\n",
    "# S = S.replace(\"lj\", \"E\")\n",
    "# S = S.replace(\"nj\", \"F\")\n",
    "# S = S.replace(\"s=\", \"G\")\n",
    "# S = S.replace(\"z=\", \"H\")\n",
    "\n",
    "# print(S)\n",
    "# print(len(S))\n",
    "\n",
    "## 예시\n",
    "c =[\"c=\",\"c-\",\"dz=\",\"d-\",\"lj\",\"nj\",\"s=\",\"z=\"]\n",
    "S=input()\n",
    "for i in range(len(c)):\n",
    "    S = S.replace(c[i], chr(65+i))\n",
    "\n",
    "print(len(S))\n",
    "\n",
    "\n"
   ]
  },
  {
   "cell_type": "code",
   "execution_count": null,
   "id": "cbe8f092",
   "metadata": {},
   "outputs": [],
   "source": []
  },
  {
   "cell_type": "code",
   "execution_count": 24,
   "id": "5ee2967a",
   "metadata": {},
   "outputs": [
    {
     "name": "stdout",
     "output_type": "stream",
     "text": [
      "3\n",
      "happy\n",
      "new\n",
      "year\n",
      "3\n"
     ]
    }
   ],
   "source": [
    "# 그룹 단어 체커\n",
    "n = int(input())\n",
    "cnt = 0\n",
    "for i in range(n):\n",
    "    s = input()\n",
    "    ToF = True\n",
    "    for j in range(len(s)-1):\n",
    "        if s[j]!=s[j+1]:\n",
    "            if s[j] in s[j+1:]:\n",
    "                ToF = False\n",
    "                break\n",
    "    if ToF:\n",
    "        cnt+=1\n",
    "print(cnt)\n",
    "    \n",
    "    "
   ]
  },
  {
   "cell_type": "code",
   "execution_count": null,
   "id": "20b74ac3",
   "metadata": {},
   "outputs": [],
   "source": []
  },
  {
   "cell_type": "code",
   "execution_count": 25,
   "id": "d92f767b",
   "metadata": {},
   "outputs": [
    {
     "name": "stdout",
     "output_type": "stream",
     "text": [
      "ObjectOrientedProgramming1 3.0 A+\n",
      "IntroductiontoComputerEngineering 3.0 A+\n",
      "ObjectOrientedProgramming2 3.0 A0\n",
      "CreativeComputerEngineeringDesign 3.0 A+\n",
      "AssemblyLanguage 3.0 A+\n",
      "InternetProgramming 3.0 B0\n",
      "ApplicationProgramminginJava 3.0 A0\n",
      "SystemProgramming 3.0 B0\n",
      "OperatingSystem 3.0 B0\n",
      "WirelessCommunicationsandNetworking 3.0 C+\n",
      "LogicCircuits 3.0 B0\n",
      "DataStructure 4.0 A+\n",
      "MicroprocessorApplication 3.0 B+\n",
      "EmbeddedSoftware 3.0 C0\n",
      "ComputerSecurity 3.0 D+\n",
      "Database 3.0 C+\n",
      "Algorithm 3.0 B0\n",
      "CapstoneDesigninCSE 3.0 B+\n",
      "CompilerDesign 3.0 D0\n",
      "ProblemSolving 4.0 P\n",
      "3.2844827586206895\n"
     ]
    }
   ],
   "source": [
    "# 과목 평점 구하기\n",
    "credit = {\"A+\":4.5, \"A0\":4.0, \"B+\":3.5, \"B0\":3.0, \"C+\":2.5, \"C0\":2.0, \"D+\":1.5, \"D0\":1.0, \"F\":0.0}\n",
    "\n",
    "sum1 = 0\n",
    "sum2 = 0\n",
    "for _ in range(20):\n",
    "    a,b,c = input().split()\n",
    "    b = float(b)\n",
    "    if c !='P':\n",
    "        sum1 += b\n",
    "        sum2 += b*credit[c]\n",
    "        \n",
    "print(\"%.6f\" % (sum2/sum1))"
   ]
  },
  {
   "cell_type": "code",
   "execution_count": null,
   "id": "46d98d71",
   "metadata": {},
   "outputs": [],
   "source": []
  },
  {
   "cell_type": "code",
   "execution_count": null,
   "id": "771c77c8",
   "metadata": {},
   "outputs": [],
   "source": []
  },
  {
   "cell_type": "code",
   "execution_count": null,
   "id": "859aea9a",
   "metadata": {},
   "outputs": [],
   "source": []
  },
  {
   "cell_type": "code",
   "execution_count": null,
   "id": "137330be",
   "metadata": {},
   "outputs": [],
   "source": []
  },
  {
   "cell_type": "code",
   "execution_count": null,
   "id": "f9e61bae",
   "metadata": {},
   "outputs": [],
   "source": []
  },
  {
   "cell_type": "code",
   "execution_count": null,
   "id": "59f0c1c3",
   "metadata": {},
   "outputs": [],
   "source": []
  }
 ],
 "metadata": {
  "kernelspec": {
   "display_name": "Python 3 (ipykernel)",
   "language": "python",
   "name": "python3"
  },
  "language_info": {
   "codemirror_mode": {
    "name": "ipython",
    "version": 3
   },
   "file_extension": ".py",
   "mimetype": "text/x-python",
   "name": "python",
   "nbconvert_exporter": "python",
   "pygments_lexer": "ipython3",
   "version": "3.9.16"
  }
 },
 "nbformat": 4,
 "nbformat_minor": 5
}
