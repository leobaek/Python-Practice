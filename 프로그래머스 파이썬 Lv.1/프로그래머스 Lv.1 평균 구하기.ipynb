{
 "cells": [
  {
   "cell_type": "code",
   "execution_count": 3,
   "id": "5b40445d",
   "metadata": {},
   "outputs": [],
   "source": [
    "프로그래머스 Lv.1 평균 구하기"
   ]
  },
  {
   "cell_type": "code",
   "execution_count": null,
   "id": "3d8d3a56",
   "metadata": {},
   "outputs": [],
   "source": [
    "문제 설명 : 정수를 담고 있는 배열 arr의 평균값을 return하는 함수, solution 완성하기\n",
    "제한사항 :  arr은 길이 1 이상, 100 이하인 배열입니다.\n",
    "            arr의 원소는 -10,000 이상 10,000 이하인 정수입니다."
   ]
  },
  {
   "cell_type": "code",
   "execution_count": 8,
   "id": "080ef87e",
   "metadata": {},
   "outputs": [
    {
     "data": {
      "text/plain": [
       "2.5"
      ]
     },
     "execution_count": 8,
     "metadata": {},
     "output_type": "execute_result"
    }
   ],
   "source": [
    "def solution(arr):\n",
    "    \n",
    "    total = sum(arr)\n",
    "    answer = total/len(arr)\n",
    "    \n",
    "    return answer\n",
    "    "
   ]
  },
  {
   "cell_type": "code",
   "execution_count": 14,
   "id": "6cc91b9d",
   "metadata": {},
   "outputs": [],
   "source": [
    "#반복문을 통해 다시 풀어보기\n",
    "\n",
    "def solution2(arr) : \n",
    "    total = 0\n",
    "    for i in arr :\n",
    "        \n",
    "        total += int(i)\n",
    "        \n",
    "    avg = total/len(arr)\n",
    "        \n",
    "    return avg"
   ]
  },
  {
   "cell_type": "code",
   "execution_count": 15,
   "id": "4dc74ec7",
   "metadata": {},
   "outputs": [
    {
     "data": {
      "text/plain": [
       "2.5"
      ]
     },
     "execution_count": 15,
     "metadata": {},
     "output_type": "execute_result"
    }
   ],
   "source": [
    "solution2(arr)"
   ]
  },
  {
   "cell_type": "code",
   "execution_count": null,
   "id": "959f3e63",
   "metadata": {},
   "outputs": [],
   "source": []
  }
 ],
 "metadata": {
  "kernelspec": {
   "display_name": "Python 3 (ipykernel)",
   "language": "python",
   "name": "python3"
  },
  "language_info": {
   "codemirror_mode": {
    "name": "ipython",
    "version": 3
   },
   "file_extension": ".py",
   "mimetype": "text/x-python",
   "name": "python",
   "nbconvert_exporter": "python",
   "pygments_lexer": "ipython3",
   "version": "3.9.13"
  }
 },
 "nbformat": 4,
 "nbformat_minor": 5
}
